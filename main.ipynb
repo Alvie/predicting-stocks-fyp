{
 "cells": [
  {
   "cell_type": "markdown",
   "metadata": {},
   "source": [
    "# Imports"
   ]
  },
  {
   "cell_type": "code",
   "execution_count": 75,
   "metadata": {},
   "outputs": [],
   "source": [
    "import numpy as np\n",
    "import pandas as pd\n",
    "from datetime import datetime"
   ]
  },
  {
   "cell_type": "markdown",
   "metadata": {},
   "source": [
    "# Transform inputs to pandas dataframe\n",
    "\n",
    "## Stock Index"
   ]
  },
  {
   "cell_type": "code",
   "execution_count": 76,
   "metadata": {},
   "outputs": [],
   "source": [
    "### SPY Price & Volume\n",
    "#### https://uk.finance.yahoo.com/quote/SPY/history\n",
    "spy_df = pd.read_csv('./inputFeatures/stockIndex/SPY.csv',\n",
    "    index_col=[\"Date\"], \n",
    "    usecols=[\"Date\", \"SPYClose\", \"Volume\"],\n",
    "    parse_dates=[\"Date\"])\n",
    "\n",
    "### VIX (Volatility Index)\n",
    "#### https://uk.finance.yahoo.com/quote/%5EVIX/history\n",
    "vix_df = pd.read_csv('./inputFeatures/stockIndex/VIX.csv',\n",
    "    index_col=[\"Date\"], \n",
    "    usecols=[\"Date\", \"VIXClose\"],\n",
    "    parse_dates=[\"Date\"])"
   ]
  },
  {
   "cell_type": "markdown",
   "metadata": {},
   "source": [
    "## Money availability"
   ]
  },
  {
   "cell_type": "code",
   "execution_count": 77,
   "metadata": {},
   "outputs": [],
   "source": [
    "### M1 Money Supply\n",
    "#### Board of Governors of the Federal Reserve System (US), M1 [WM1NS],\n",
    "#### retrieved from FRED, Federal Reserve Bank of St. Louis;\n",
    "#### https://fred.stlouisfed.org/series/WM1NS, March 31, 2022.\n",
    "m1_df = pd.read_csv('./inputFeatures/moneyAvailability/WM1NS.csv',\n",
    "    index_col=[\"Date\"],\n",
    "    parse_dates=[\"Date\"])\n",
    "\n",
    "### Employment Rate\n",
    "#### Organization for Economic Co-operation and Development,\n",
    "#### Employment Rate: Aged 15-64: All Persons for the United States\n",
    "#### [LREM64TTUSM156S], retrieved from FRED,\n",
    "#### Federal Reserve Bank of St. Louis;\n",
    "#### https://fred.stlouisfed.org/series/LREM64TTUSM156S, March 31, 2022.\n",
    "employment_df = pd.read_csv('./inputFeatures/moneyAvailability/EmploymentRate.csv',\n",
    "    index_col=[\"Date\"],\n",
    "    parse_dates=[\"Date\"])\n",
    "\n",
    "### Inflation Rate\n",
    "## data.bls.gov\n",
    "inflation_df = pd.read_csv('./inputFeatures/moneyAvailability/InflationRate.csv',\n",
    "    index_col=[\"Date\"],\n",
    "    parse_dates=[\"Date\"])\n",
    "\n",
    "### GDP Rate\n",
    "#### U.S. Bureau of Economic Analysis, Gross Domestic Product [GDP], retrieved from FRED,\n",
    "#### Federal Reserve Bank of St. Louis;\n",
    "#### https://fred.stlouisfed.org/series/GDP, March 31, 2022.\n",
    "gdp_df = pd.read_csv('./inputFeatures/moneyAvailability/GDP.csv',\n",
    "    index_col=[\"Date\"],\n",
    "    parse_dates=[\"Date\"])"
   ]
  },
  {
   "cell_type": "markdown",
   "metadata": {},
   "source": [
    "## Sentiment"
   ]
  },
  {
   "cell_type": "code",
   "execution_count": 78,
   "metadata": {},
   "outputs": [],
   "source": [
    "### Put Call Ratio\n",
    "#### https://www.alphalerts.com/live-historical-equity-pcr/\n",
    "pcr_df = pd.read_csv('./inputFeatures/sentimentIndicators/PCR.csv',\n",
    "    index_col=['Date'],\n",
    "    parse_dates=['Date'])\n",
    "\n",
    "### Consumer Sentiment\n",
    "#### Surveys of Consumers, University of Michigan: Consumer Sentiment © [UMCSENT]\n",
    "#### retrieved from FRED, Federal Reserve Bank of St. Louis;\n",
    "#### https://fred.stlouisfed.org/series/UMCSENT, March 31, 2022.\n",
    "umcsent_df = pd.read_csv('./inputFeatures/sentimentIndicators/UMCSENT.csv',\n",
    "    index_col=['Date'],\n",
    "    parse_dates=['Date'])\n",
    "\n",
    "confidence_df = pd.read_csv('./inputFeatures/sentimentIndicators/CSCICP03USM665S.csv',\n",
    "    index_col=['Date'],\n",
    "    parse_dates=['Date'])"
   ]
  },
  {
   "cell_type": "markdown",
   "metadata": {},
   "source": [
    "## Portfolio Allocations"
   ]
  },
  {
   "cell_type": "code",
   "execution_count": 79,
   "metadata": {},
   "outputs": [],
   "source": [
    "### Treasury Yield Rates\n",
    "#### https://www.alphalerts.com/live-historical-equity-pcr/\n",
    "treasury_df = pd.read_csv('./inputFeatures/portfolioAllocations/treasury/daily-treasury-rates.csv',\n",
    "    index_col=['Date'],\n",
    "    parse_dates=['Date'])\n",
    "\n",
    "### Effective Funds Rate\n",
    "#### Federal Reserve Bank of New York, Effective Federal Funds Rate [EFFR],\n",
    "#### retrieved from FRED, Federal Reserve Bank of St. Louis;\n",
    "#### https://fred.stlouisfed.org/series/EFFR, March 31, 2022.\n",
    "effr_df = pd.read_csv('./inputFeatures/portfolioAllocations/treasury/EFFR.csv',\n",
    "    index_col=['Date'],\n",
    "    parse_dates=['Date'])\n",
    "\n",
    "### Accepted Repurchase Agreements (Repo) by the Federal Reserve\n",
    "#### Federal Reserve Bank of New York, Overnight Repurchase Agreements:\n",
    "#### Treasury Securities Purchased by the Federal Reserve in the Temporary Open Market Operations [RPONTSYD],\n",
    "#### retrieved from FRED, Federal Reserve Bank of St. Louis;\n",
    "#### https://fred.stlouisfed.org/series/RPONTSYD, March 31, 2022.\n",
    "repo_df = pd.read_csv('./inputFeatures/portfolioAllocations/treasury/REPO.csv',\n",
    "    index_col=['Date'],\n",
    "    parse_dates=['Date'])\n",
    "\n",
    "### Accepted Reverse Repurchase Agreements (Reverse Repo) by the Federal Reserve\n",
    "#### Federal Reserve Bank of New York, Overnight Reverse Repurchase Agreements:\n",
    "#### Treasury Securities Sold by the Federal Reserve in the Temporary Open Market Operations [RRPONTSYD],\n",
    "#### retrieved from FRED, Federal Reserve Bank of St. Louis;\n",
    "#### https://fred.stlouisfed.org/series/RRPONTSYD, March 31, 2022.\n",
    "reverse_repo_df = pd.read_csv('./inputFeatures/portfolioAllocations/treasury/REVERSEREPO.csv',\n",
    "    index_col=['Date'],\n",
    "    parse_dates=['Date'])\n",
    "\n",
    "### Gold Rate\n",
    "#### https://www.lbma.org.uk/prices-and-data/precious-metal-prices#/table\n",
    "gold_df = pd.read_csv('./inputFeatures/portfolioAllocations/commodities/gold.csv',\n",
    "    index_col=['Date'],\n",
    "    parse_dates=['Date'])\n",
    "\n",
    "### JPY Rate\n",
    "#### Board of Governors of the Federal Reserve System (US),\n",
    "#### Japanese Yen to U.S. Dollar Spot Exchange Rate [DEXJPUS],\n",
    "#### retrieved from FRED, Federal Reserve Bank of St. Louis;\n",
    "#### https://fred.stlouisfed.org/series/DEXJPUS, April 3, 2022.\n",
    "jpy_df = pd.read_csv('./inputFeatures/portfolioAllocations/currency/JPY.csv',\n",
    "    index_col=['Date'],\n",
    "    parse_dates=['Date'])\n",
    "         \n",
    "eur_df = pd.read_csv('./inputFeatures/portfolioAllocations/currency/EUR.csv',\n",
    "    index_col=['Date'],\n",
    "    parse_dates=['Date'])\n",
    "\n",
    "gbp_df = pd.read_csv('./inputFeatures/portfolioAllocations/currency/GBP.csv',\n",
    "    index_col=['Date'],\n",
    "    parse_dates=['Date'])"
   ]
  },
  {
   "cell_type": "markdown",
   "metadata": {},
   "source": [
    "# Combined Table"
   ]
  },
  {
   "cell_type": "code",
   "execution_count": 80,
   "metadata": {},
   "outputs": [],
   "source": [
    "### Necessary functions\n",
    "def get_most_recent_value(date, lookup_df, column_name):\n",
    "    most_recent_date = [index for index in lookup_df.index if index <= date][-1]\n",
    "    return lookup_df[column_name].loc[most_recent_date]\n",
    "\n",
    "dfs_to_combine = [\n",
    "    vix_df,\n",
    "    m1_df,\n",
    "    employment_df,\n",
    "    inflation_df,\n",
    "    gdp_df,\n",
    "    pcr_df,\n",
    "    umcsent_df,\n",
    "    confidence_df,\n",
    "    treasury_df,\n",
    "    effr_df,\n",
    "    repo_df,\n",
    "    reverse_repo_df,\n",
    "    gold_df,\n",
    "    jpy_df,\n",
    "    eur_df,\n",
    "    gbp_df]\n",
    "\n",
    "combined_df = spy_df\n",
    "combined_df = combined_df.join([df for df in dfs_to_combine])\n",
    "\n",
    "for date in combined_df.index:\n",
    "    combined_df.at[date, 'M1Supply'] = get_most_recent_value(date, m1_df, 'M1Supply')\n",
    "    combined_df.at[date, 'EmploymentRate'] = get_most_recent_value(date, employment_df, 'EmploymentRate')\n",
    "    combined_df.at[date, 'InflationRate'] = get_most_recent_value(date, inflation_df, 'InflationRate')\n",
    "    combined_df.at[date, 'GDP'] = get_most_recent_value(date, gdp_df, 'GDP')\n",
    "    combined_df.at[date, 'UMCSENT'] = get_most_recent_value(date, umcsent_df, 'UMCSENT')\n",
    "    combined_df.at[date, 'Confidence'] = get_most_recent_value(date, confidence_df, 'Confidence')  \n",
    "\n",
    "combined_df.to_excel(\"./inputFeatures/combined.xlsx\")"
   ]
  },
  {
   "cell_type": "code",
   "execution_count": null,
   "metadata": {},
   "outputs": [],
   "source": []
  }
 ],
 "metadata": {
  "interpreter": {
   "hash": "b89b5cfaba6639976dc87ff2fec6d58faec662063367e2c229c520fe71072417"
  },
  "kernelspec": {
   "display_name": "Python 3.10.2 64-bit",
   "language": "python",
   "name": "python3"
  },
  "language_info": {
   "codemirror_mode": {
    "name": "ipython",
    "version": 3
   },
   "file_extension": ".py",
   "mimetype": "text/x-python",
   "name": "python",
   "nbconvert_exporter": "python",
   "pygments_lexer": "ipython3",
   "version": "3.10.2"
  },
  "orig_nbformat": 4
 },
 "nbformat": 4,
 "nbformat_minor": 2
}
