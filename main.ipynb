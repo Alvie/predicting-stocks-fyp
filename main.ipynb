{
 "cells": [
  {
   "cell_type": "markdown",
   "metadata": {},
   "source": [
    "# Imports"
   ]
  },
  {
   "cell_type": "code",
   "execution_count": 1,
   "metadata": {},
   "outputs": [],
   "source": [
    "import csv\n",
    "import numpy as np\n",
    "import pandas as pd"
   ]
  },
  {
   "cell_type": "markdown",
   "metadata": {},
   "source": [
    "# Transform inputs to pandas dataframe\n",
    "\n",
    "## Stock Index"
   ]
  },
  {
   "cell_type": "code",
   "execution_count": 2,
   "metadata": {},
   "outputs": [],
   "source": [
    "### SPY Price & Volume\n",
    "#### https://uk.finance.yahoo.com/quote/SPY/history?p=SPY\n",
    "spy_df = pd.read_csv('./inputFeatures/stockIndex/SPY.csv',\n",
    "    index_col=[\"Date\"], \n",
    "    usecols=[\"Date\", \"Close\", \"Volume\"],\n",
    "    parse_dates=[\"Date\"])\n",
    "\n",
    "### VIX (Volatility Index)\n",
    "#### https://uk.finance.yahoo.com/quote/%5EVIX/history\n",
    "vix_df = pd.read_csv('./inputFeatures/stockIndex/VIX.csv',\n",
    "    index_col=[\"Date\"], \n",
    "    usecols=[\"Date\", \"Close\"],\n",
    "    parse_dates=[\"Date\"])"
   ]
  },
  {
   "cell_type": "markdown",
   "metadata": {},
   "source": [
    "## Money availability"
   ]
  },
  {
   "cell_type": "code",
   "execution_count": 5,
   "metadata": {},
   "outputs": [
    {
     "name": "stdout",
     "output_type": "stream",
     "text": [
      "                  GDP\n",
      "Date                 \n",
      "2006-07-01  13870.188\n",
      "2006-10-01  14039.560\n",
      "2007-01-01  14215.651\n",
      "2007-04-01  14402.082\n",
      "2007-07-01  14564.117\n",
      "...               ...\n",
      "2020-10-01  21477.597\n",
      "2021-01-01  22038.226\n",
      "2021-04-01  22740.959\n",
      "2021-07-01  23202.344\n",
      "2021-10-01  24002.815\n",
      "\n",
      "[62 rows x 1 columns]\n"
     ]
    }
   ],
   "source": [
    "### M1 Money Supply\n",
    "#### Board of Governors of the Federal Reserve System (US), M1 [WM1NS],\n",
    "#### retrieved from FRED, Federal Reserve Bank of St. Louis;\n",
    "#### https://fred.stlouisfed.org/series/WM1NS, March 30, 2022.\n",
    "m1_df = pd.read_csv('./inputFeatures/moneyAvailability/WM1NS.csv',\n",
    "    index_col=[\"Date\"], \n",
    "    usecols=[\"Date\", \"M1Supply\"],\n",
    "    parse_dates=[\"Date\"])\n",
    "\n",
    "### Employment Rate\n",
    "#### Organization for Economic Co-operation and Development,\n",
    "#### Employment Rate: Aged 15-64: All Persons for the United States\n",
    "#### [LREM64TTUSM156S], retrieved from FRED,\n",
    "#### Federal Reserve Bank of St. Louis;\n",
    "#### https://fred.stlouisfed.org/series/LREM64TTUSM156S, March 31, 2022.\n",
    "employment_df = pd.read_csv('./inputFeatures/moneyAvailability/EmploymentRate.csv',\n",
    "    index_col=[\"Date\"], \n",
    "    usecols=[\"Date\", \"EmploymentRate\"],\n",
    "    parse_dates=[\"Date\"])\n",
    "\n",
    "### Inflation Rate\n",
    "## data.bls.gov\n",
    "inflation_df = pd.read_csv('./inputFeatures/moneyAvailability/InflationRate.csv',\n",
    "    index_col=[\"Date\"], \n",
    "    usecols=[\"Date\", \"InflationRate\"],\n",
    "    parse_dates=[\"Date\"])\n",
    "\n",
    "### GDP Rate\n",
    "#### U.S. Bureau of Economic Analysis, Gross Domestic Product [GDP], retrieved from FRED,\n",
    "#### Federal Reserve Bank of St. Louis;\n",
    "#### https://fred.stlouisfed.org/series/GDP, March 31, 2022.\n",
    "gdp_df = pd.read_csv('./inputFeatures/moneyAvailability/GDP.csv',\n",
    "    index_col=[\"Date\"], \n",
    "    usecols=[\"Date\", \"GDP\"],\n",
    "    parse_dates=[\"Date\"])\n",
    "\n",
    "print(gdp_df)\n"
   ]
  },
  {
   "cell_type": "markdown",
   "metadata": {},
   "source": [
    "## Sentiment"
   ]
  }
 ],
 "metadata": {
  "interpreter": {
   "hash": "b89b5cfaba6639976dc87ff2fec6d58faec662063367e2c229c520fe71072417"
  },
  "kernelspec": {
   "display_name": "Python 3.10.2 64-bit",
   "language": "python",
   "name": "python3"
  },
  "language_info": {
   "codemirror_mode": {
    "name": "ipython",
    "version": 3
   },
   "file_extension": ".py",
   "mimetype": "text/x-python",
   "name": "python",
   "nbconvert_exporter": "python",
   "pygments_lexer": "ipython3",
   "version": "3.10.2"
  },
  "orig_nbformat": 4
 },
 "nbformat": 4,
 "nbformat_minor": 2
}
